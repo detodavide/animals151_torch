{
 "cells": [
  {
   "cell_type": "code",
   "execution_count": null,
   "metadata": {},
   "outputs": [],
   "source": [
    "import random\n",
    "import numpy as np\n",
    "from PIL import Image\n",
    "import os\n",
    "import matplotlib.pyplot as plt\n",
    "\n",
    "import torch\n",
    "import torch.optim as optim\n",
    "import torch.nn as nn\n",
    "import torch.functional as F\n",
    "from torch.nn.functional import one_hot\n",
    "from torch.utils.data import Dataset, TensorDataset, DataLoader, WeightedRandomSampler, SubsetRandomSampler, random_split, Subset\n",
    "from torchvision.transforms import Compose, ToTensor, Normalize, ToPILImage, \\\n",
    "                                    RandomHorizontalFlip, Resize, transforms, RandomCrop, RandomRotation\n",
    "from torchvision.datasets import ImageFolder\n",
    "\n",
    "from torch.utils.tensorboard import SummaryWriter\n",
    "\n",
    "import matplotlib.pyplot as plt\n",
    "%matplotlib inline\n",
    "plt.style.use('fivethirtyeight')\n",
    "\n",
    "PATH = \"./data/dataset\"\n",
    "torch.manual_seed(13)"
   ]
  },
  {
   "cell_type": "code",
   "execution_count": null,
   "metadata": {},
   "outputs": [],
   "source": [
    "torch.cuda.empty_cache()"
   ]
  },
  {
   "cell_type": "code",
   "execution_count": null,
   "metadata": {},
   "outputs": [],
   "source": [
    "%run -i dataprep_v1.py"
   ]
  },
  {
   "cell_type": "code",
   "execution_count": null,
   "metadata": {},
   "outputs": [],
   "source": [
    "# transform = transforms.Compose([\n",
    "#     transforms.Resize((224, 224)),  \n",
    "#     transforms.RandomHorizontalFlip(),\n",
    "#     transforms.ToTensor(),\n",
    "#     transforms.Normalize(mean=[0.485, 0.456, 0.406], std=[0.229, 0.224, 0.225])\n",
    "# ])\n",
    "\n",
    "# dataset = ImageFolder(root=PATH, transform=transform)"
   ]
  },
  {
   "cell_type": "code",
   "execution_count": null,
   "metadata": {},
   "outputs": [],
   "source": [
    "# labels = [label for _, label in dataset]\n",
    "# one_hot_labels = one_hot(torch.tensor(labels), num_classes=len(dataset.classes)).float()"
   ]
  },
  {
   "cell_type": "code",
   "execution_count": null,
   "metadata": {},
   "outputs": [],
   "source": [
    "# for i in range(len(dataset)):\n",
    "    # dataset.samples[i] = (dataset.samples[i][0], one_hot_labels[i])"
   ]
  },
  {
   "cell_type": "code",
   "execution_count": null,
   "metadata": {},
   "outputs": [],
   "source": [
    "# from sklearn.model_selection import train_test_split\n",
    "\n",
    "# total_samples = len(dataset)\n",
    "# indices = list(range(total_samples))\n",
    "# train_indices, val_indices = train_test_split(indices, test_size=0.15, random_state=42)"
   ]
  },
  {
   "cell_type": "code",
   "execution_count": null,
   "metadata": {},
   "outputs": [],
   "source": [
    "# train_sampler = Subset(dataset, train_indices)\n",
    "# val_sampler = Subset(dataset, val_indices)\n",
    "\n",
    "# train_loader = DataLoader(train_sampler, batch_size=32, shuffle=True)\n",
    "# val_loader = DataLoader(val_sampler, batch_size=32, shuffle=False)"
   ]
  },
  {
   "cell_type": "code",
   "execution_count": null,
   "metadata": {},
   "outputs": [],
   "source": [
    "train_loader.dataset[0]"
   ]
  },
  {
   "cell_type": "code",
   "execution_count": null,
   "metadata": {},
   "outputs": [],
   "source": [
    "#MODEL\n",
    "from torchvision.models.resnet import resnet101, ResNet101_Weights, resnet152, ResNet152_Weights, resnet50, ResNet50_Weights\n",
    "\n",
    "class ResnetCustom(nn.Module):\n",
    "    def __init__(self, num_classes, p=.5) -> None:\n",
    "        super(ResnetCustom, self).__init__()\n",
    "        self.resnet = resnet101(weights=ResNet101_Weights.DEFAULT)\n",
    "        num_features = self.resnet.fc.in_features\n",
    "        self.resnet.fc = nn.Sequential(\n",
    "            nn.Dropout(p=p),\n",
    "            nn.Linear(num_features, num_classes)\n",
    "        )\n",
    "\n",
    "    def forward(self, x):\n",
    "        x = self.resnet(x)\n",
    "        return x\n",
    "\n",
    "device = 'cuda' if torch.cuda.is_available() else 'cpu'\n",
    "num_classes = 151\n",
    "resnet_v1 = ResnetCustom(num_classes, p=.6)\n",
    "multi_loss_fn = nn.CrossEntropyLoss(reduction='mean')\n",
    "optimizer = optim.Adam(resnet_v1.resnet.fc.parameters(), lr=3e-4)\n",
    "resnet_v1.to(device=device)"
   ]
  },
  {
   "cell_type": "code",
   "execution_count": null,
   "metadata": {},
   "outputs": [],
   "source": [
    "# training loop\n",
    "n_epochs = 60\n",
    "train_losses = []\n",
    "val_losses = []\n",
    "\n",
    "for epoch in range(n_epochs):\n",
    "\n",
    "    batch_losses = []\n",
    "    batch_val_losses = []\n",
    "\n",
    "    for x_batch, y_batch in train_loader:\n",
    "\n",
    "        x_batch = x_batch.to(device)\n",
    "        y_batch = y_batch.to(device)\n",
    "\n",
    "        resnet_v1.train()\n",
    "\n",
    "        yhat = resnet_v1(x_batch)\n",
    "        loss = multi_loss_fn(yhat, y_batch)\n",
    "\n",
    "        loss.backward()\n",
    "        optimizer.step()\n",
    "        optimizer.zero_grad()\n",
    "\n",
    "        batch_losses.append(loss.item())\n",
    "    \n",
    "    train_epoch_loss = np.mean(batch_losses)\n",
    "    train_losses.append(train_epoch_loss)\n",
    "\n",
    "    with torch.no_grad():\n",
    "\n",
    "        for x_batch, y_batch in val_loader:\n",
    "\n",
    "            resnet_v1.eval()\n",
    "\n",
    "            x_batch = x_batch.to(device)\n",
    "            y_batch = y_batch.to(device)\n",
    "\n",
    "            yhat = resnet_v1(x_batch)\n",
    "            loss = multi_loss_fn(yhat, y_batch)\n",
    "\n",
    "            batch_val_losses.append(loss.item())\n",
    "\n",
    "    val_epoch_loss = np.mean(batch_val_losses)\n",
    "    val_losses.append(val_epoch_loss)\n",
    "\n",
    "    print(f\"Epoch {epoch+1}/{n_epochs}: loss = {train_epoch_loss}, val_loss = {val_epoch_loss}\")\n",
    "            \n"
   ]
  },
  {
   "cell_type": "code",
   "execution_count": null,
   "metadata": {},
   "outputs": [],
   "source": []
  }
 ],
 "metadata": {
  "kernelspec": {
   "display_name": "torchenv",
   "language": "python",
   "name": "python3"
  },
  "language_info": {
   "codemirror_mode": {
    "name": "ipython",
    "version": 3
   },
   "file_extension": ".py",
   "mimetype": "text/x-python",
   "name": "python",
   "nbconvert_exporter": "python",
   "pygments_lexer": "ipython3",
   "version": "3.10.12"
  },
  "orig_nbformat": 4
 },
 "nbformat": 4,
 "nbformat_minor": 2
}
